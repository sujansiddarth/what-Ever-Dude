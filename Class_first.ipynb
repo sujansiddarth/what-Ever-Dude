{
 "cells": [
  {
   "cell_type": "code",
   "execution_count": 3,
   "metadata": {},
   "outputs": [
    {
     "name": "stdout",
     "output_type": "stream",
     "text": [
      "52\n",
      "40\n"
     ]
    }
   ],
   "source": [
    "class user_data_type:\n",
    "    def init_new(self,age):\n",
    "        self.name=\"Someone\"\n",
    "        self.age=age\n",
    "        self.num=12\n",
    "    def info_new(self):\n",
    "        return self.age + self.num\n",
    "me=user_data_type()\n",
    "me.init_new(40)\n",
    "print(me.info_new())\n",
    "print(me.age)\n",
    "        \n",
    "        "
   ]
  },
  {
   "cell_type": "code",
   "execution_count": 17,
   "metadata": {},
   "outputs": [
    {
     "name": "stdout",
     "output_type": "stream",
     "text": [
      "The pet I own is cat and it is brown\n",
      "And its 4 yaer old and weighs 25\n",
      "and the weight in kg is 11.3488\n",
      "The pet I own is dog and it is white\n",
      "And its 10 yaer old and weighs 50\n",
      "and the weight in kg is 22.6976\n",
      "22.6976\n"
     ]
    }
   ],
   "source": [
    "class Pet:\n",
    "    def __init__(self,type_pet,name,age,weight_pounds,colour):\n",
    "        self.animal=type_pet\n",
    "        self.name=name\n",
    "        self.age=age\n",
    "        self.weight_pounds=weight_pounds\n",
    "        self.weight_kg=self.weight_in_kg()\n",
    "        self.colour=colour\n",
    "    def weight_in_kg(self):\n",
    "        return 0.453952*self.weight_pounds\n",
    "    def describe_pet(self):\n",
    "        print('The pet I own is',self.animal,'and it is',self.colour,)\n",
    "        print('And its',self.age,'yaer old and weighs',self.weight_pounds,)\n",
    "        print('and the weight in kg is',self.weight_kg,)\n",
    "       \n",
    "my_cat=Pet('cat','ceasor',4,25,'brown')\n",
    "my_cat.describe_pet()\n",
    "my_dog=Pet(\"dog\",\"peter\",10,50,\"white\")\n",
    "my_dog.describe_pet()\n",
    "print(my_dog.weight_in_kg())\n",
    "\n",
    "\n"
   ]
  },
  {
   "cell_type": "code",
   "execution_count": 18,
   "metadata": {},
   "outputs": [
    {
     "data": {
      "text/plain": [
       "3.5"
      ]
     },
     "execution_count": 18,
     "metadata": {},
     "output_type": "execute_result"
    }
   ],
   "source": [
    "import numpy as np\n",
    "nparray=np.array([1,2,3,4,5,6])\n",
    "np.mean(nparray)"
   ]
  },
  {
   "cell_type": "code",
   "execution_count": 25,
   "metadata": {},
   "outputs": [
    {
     "name": "stdout",
     "output_type": "stream",
     "text": [
      "attr2 is equal to 6\n",
      "attr1 is equal to 5\n"
     ]
    },
    {
     "data": {
      "text/plain": [
       "6"
      ]
     },
     "execution_count": 25,
     "metadata": {},
     "output_type": "execute_result"
    }
   ],
   "source": [
    "class MyClass:\n",
    "    def __init__(self,attr1val,attr2val):\n",
    "        self.attr1 = attr1val\n",
    "        self.attr2 = attr2val\n",
    "        print('attr2 is equal to',self.attr2)\n",
    "        \n",
    "myobj = MyClass(5,6)\n",
    "\n",
    "print('attr1 is equal to', myobj.attr1)\n",
    "myobj.attr2\n"
   ]
  },
  {
   "cell_type": "code",
   "execution_count": null,
   "metadata": {},
   "outputs": [],
   "source": []
  }
 ],
 "metadata": {
  "kernelspec": {
   "display_name": "Python 3",
   "language": "python",
   "name": "python3"
  },
  "language_info": {
   "codemirror_mode": {
    "name": "ipython",
    "version": 3
   },
   "file_extension": ".py",
   "mimetype": "text/x-python",
   "name": "python",
   "nbconvert_exporter": "python",
   "pygments_lexer": "ipython3",
   "version": "3.8.5"
  }
 },
 "nbformat": 4,
 "nbformat_minor": 4
}
